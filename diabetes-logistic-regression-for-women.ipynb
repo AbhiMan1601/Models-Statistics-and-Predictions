{
 "cells": [
  {
   "cell_type": "code",
   "execution_count": 1,
   "id": "16548998",
   "metadata": {
    "_cell_guid": "b1076dfc-b9ad-4769-8c92-a6c4dae69d19",
    "_uuid": "8f2839f25d086af736a60e9eeb907d3b93b6e0e5",
    "execution": {
     "iopub.execute_input": "2022-03-23T01:49:51.560836Z",
     "iopub.status.busy": "2022-03-23T01:49:51.559789Z",
     "iopub.status.idle": "2022-03-23T01:49:52.887055Z",
     "shell.execute_reply": "2022-03-23T01:49:52.885925Z",
     "shell.execute_reply.started": "2022-03-23T01:48:12.780307Z"
    },
    "papermill": {
     "duration": 1.354572,
     "end_time": "2022-03-23T01:49:52.887230",
     "exception": false,
     "start_time": "2022-03-23T01:49:51.532658",
     "status": "completed"
    },
    "tags": []
   },
   "outputs": [],
   "source": [
    "import numpy as np # linear algebra\n",
    "import pandas as pd # data processing \n",
    "import matplotlib.pyplot as plt\n",
    "import seaborn as sns\n",
    "\n",
    "from sklearn.preprocessing import StandardScaler\n",
    "from sklearn.model_selection import train_test_split,GridSearchCV\n",
    "from sklearn.decomposition import PCA\n",
    "from sklearn.linear_model import LogisticRegression\n",
    "from sklearn.svm import SVC\n",
    "from sklearn.metrics import roc_curve"
   ]
  },
  {
   "cell_type": "code",
   "execution_count": 2,
   "id": "16d7ba64",
   "metadata": {
    "execution": {
     "iopub.execute_input": "2022-03-23T01:49:52.936571Z",
     "iopub.status.busy": "2022-03-23T01:49:52.935744Z",
     "iopub.status.idle": "2022-03-23T01:49:52.943022Z",
     "shell.execute_reply": "2022-03-23T01:49:52.942464Z",
     "shell.execute_reply.started": "2022-03-23T01:48:14.164954Z"
    },
    "papermill": {
     "duration": 0.033279,
     "end_time": "2022-03-23T01:49:52.943164",
     "exception": false,
     "start_time": "2022-03-23T01:49:52.909885",
     "status": "completed"
    },
    "tags": []
   },
   "outputs": [],
   "source": [
    "import os\n",
    "os.chdir(\"/kaggle/input/pima-indians-diabetes-database/\")"
   ]
  },
  {
   "cell_type": "markdown",
   "id": "81af7794",
   "metadata": {
    "papermill": {
     "duration": 0.022598,
     "end_time": "2022-03-23T01:49:52.989335",
     "exception": false,
     "start_time": "2022-03-23T01:49:52.966737",
     "status": "completed"
    },
    "tags": []
   },
   "source": [
    "Diabetes is a chronic, metabolic disease characterized by elevated levels of blood glucose (or blood sugar), which leads over time to serious damage to the heart, blood vessels, eyes, kidneys and nerves (WHO 2022). Identifying the disease early could improve the health of the pearson so a classification algorithm based on health measures would be usefull.\n",
    "\n",
    "With the data set *pima indians diabetes* which contains data such as blood preasure, Body mass index, times pregnant and other health indicators, with Support Vector Classifier and Logistic Regression classify if a woman has diabetes or not. The idea is cuantify the acurracy of both methods in detecting if a woman has diabetes or not."
   ]
  },
  {
   "cell_type": "code",
   "execution_count": 3,
   "id": "cbb9ec89",
   "metadata": {
    "execution": {
     "iopub.execute_input": "2022-03-23T01:49:53.037673Z",
     "iopub.status.busy": "2022-03-23T01:49:53.037053Z",
     "iopub.status.idle": "2022-03-23T01:49:53.073633Z",
     "shell.execute_reply": "2022-03-23T01:49:53.074130Z",
     "shell.execute_reply.started": "2022-03-23T01:48:14.174654Z"
    },
    "papermill": {
     "duration": 0.06259,
     "end_time": "2022-03-23T01:49:53.074345",
     "exception": false,
     "start_time": "2022-03-23T01:49:53.011755",
     "status": "completed"
    },
    "tags": []
   },
   "outputs": [
    {
     "data": {
      "text/html": [
       "<div>\n",
       "<style scoped>\n",
       "    .dataframe tbody tr th:only-of-type {\n",
       "        vertical-align: middle;\n",
       "    }\n",
       "\n",
       "    .dataframe tbody tr th {\n",
       "        vertical-align: top;\n",
       "    }\n",
       "\n",
       "    .dataframe thead th {\n",
       "        text-align: right;\n",
       "    }\n",
       "</style>\n",
       "<table border=\"1\" class=\"dataframe\">\n",
       "  <thead>\n",
       "    <tr style=\"text-align: right;\">\n",
       "      <th></th>\n",
       "      <th>Pregnancies</th>\n",
       "      <th>Glucose</th>\n",
       "      <th>BloodPressure</th>\n",
       "      <th>SkinThickness</th>\n",
       "      <th>Insulin</th>\n",
       "      <th>BMI</th>\n",
       "      <th>DiabetesPedigreeFunction</th>\n",
       "      <th>Age</th>\n",
       "      <th>Outcome</th>\n",
       "    </tr>\n",
       "  </thead>\n",
       "  <tbody>\n",
       "    <tr>\n",
       "      <th>0</th>\n",
       "      <td>6</td>\n",
       "      <td>148</td>\n",
       "      <td>72</td>\n",
       "      <td>35</td>\n",
       "      <td>0</td>\n",
       "      <td>33.6</td>\n",
       "      <td>0.627</td>\n",
       "      <td>50</td>\n",
       "      <td>Diab</td>\n",
       "    </tr>\n",
       "    <tr>\n",
       "      <th>1</th>\n",
       "      <td>1</td>\n",
       "      <td>85</td>\n",
       "      <td>66</td>\n",
       "      <td>29</td>\n",
       "      <td>0</td>\n",
       "      <td>26.6</td>\n",
       "      <td>0.351</td>\n",
       "      <td>31</td>\n",
       "      <td>Non-Diab</td>\n",
       "    </tr>\n",
       "    <tr>\n",
       "      <th>2</th>\n",
       "      <td>8</td>\n",
       "      <td>183</td>\n",
       "      <td>64</td>\n",
       "      <td>0</td>\n",
       "      <td>0</td>\n",
       "      <td>23.3</td>\n",
       "      <td>0.672</td>\n",
       "      <td>32</td>\n",
       "      <td>Diab</td>\n",
       "    </tr>\n",
       "    <tr>\n",
       "      <th>3</th>\n",
       "      <td>1</td>\n",
       "      <td>89</td>\n",
       "      <td>66</td>\n",
       "      <td>23</td>\n",
       "      <td>94</td>\n",
       "      <td>28.1</td>\n",
       "      <td>0.167</td>\n",
       "      <td>21</td>\n",
       "      <td>Non-Diab</td>\n",
       "    </tr>\n",
       "    <tr>\n",
       "      <th>4</th>\n",
       "      <td>0</td>\n",
       "      <td>137</td>\n",
       "      <td>40</td>\n",
       "      <td>35</td>\n",
       "      <td>168</td>\n",
       "      <td>43.1</td>\n",
       "      <td>2.288</td>\n",
       "      <td>33</td>\n",
       "      <td>Diab</td>\n",
       "    </tr>\n",
       "  </tbody>\n",
       "</table>\n",
       "</div>"
      ],
      "text/plain": [
       "   Pregnancies  Glucose  BloodPressure  SkinThickness  Insulin   BMI  \\\n",
       "0            6      148             72             35        0  33.6   \n",
       "1            1       85             66             29        0  26.6   \n",
       "2            8      183             64              0        0  23.3   \n",
       "3            1       89             66             23       94  28.1   \n",
       "4            0      137             40             35      168  43.1   \n",
       "\n",
       "   DiabetesPedigreeFunction  Age   Outcome  \n",
       "0                     0.627   50      Diab  \n",
       "1                     0.351   31  Non-Diab  \n",
       "2                     0.672   32      Diab  \n",
       "3                     0.167   21  Non-Diab  \n",
       "4                     2.288   33      Diab  "
      ]
     },
     "execution_count": 3,
     "metadata": {},
     "output_type": "execute_result"
    }
   ],
   "source": [
    "diabetes=pd.read_csv(\"diabetes.csv\")\n",
    "diabetes.Outcome = diabetes.Outcome.replace({0:'Non-Diab',1:'Diab'})\n",
    "diabetes.head()"
   ]
  },
  {
   "cell_type": "code",
   "execution_count": 4,
   "id": "2347bb03",
   "metadata": {
    "execution": {
     "iopub.execute_input": "2022-03-23T01:49:53.133206Z",
     "iopub.status.busy": "2022-03-23T01:49:53.132160Z",
     "iopub.status.idle": "2022-03-23T01:49:53.136200Z",
     "shell.execute_reply": "2022-03-23T01:49:53.136751Z",
     "shell.execute_reply.started": "2022-03-23T01:48:14.324229Z"
    },
    "papermill": {
     "duration": 0.036097,
     "end_time": "2022-03-23T01:49:53.136935",
     "exception": false,
     "start_time": "2022-03-23T01:49:53.100838",
     "status": "completed"
    },
    "tags": []
   },
   "outputs": [
    {
     "data": {
      "text/plain": [
       "(768, 9)"
      ]
     },
     "execution_count": 4,
     "metadata": {},
     "output_type": "execute_result"
    }
   ],
   "source": [
    "diabetes.shape"
   ]
  },
  {
   "cell_type": "code",
   "execution_count": 5,
   "id": "914b6ed9",
   "metadata": {
    "execution": {
     "iopub.execute_input": "2022-03-23T01:49:53.191592Z",
     "iopub.status.busy": "2022-03-23T01:49:53.190680Z",
     "iopub.status.idle": "2022-03-23T01:49:53.229494Z",
     "shell.execute_reply": "2022-03-23T01:49:53.230038Z",
     "shell.execute_reply.started": "2022-03-23T01:48:14.559769Z"
    },
    "papermill": {
     "duration": 0.069878,
     "end_time": "2022-03-23T01:49:53.230212",
     "exception": false,
     "start_time": "2022-03-23T01:49:53.160334",
     "status": "completed"
    },
    "tags": []
   },
   "outputs": [
    {
     "data": {
      "text/html": [
       "<div>\n",
       "<style scoped>\n",
       "    .dataframe tbody tr th:only-of-type {\n",
       "        vertical-align: middle;\n",
       "    }\n",
       "\n",
       "    .dataframe tbody tr th {\n",
       "        vertical-align: top;\n",
       "    }\n",
       "\n",
       "    .dataframe thead th {\n",
       "        text-align: right;\n",
       "    }\n",
       "</style>\n",
       "<table border=\"1\" class=\"dataframe\">\n",
       "  <thead>\n",
       "    <tr style=\"text-align: right;\">\n",
       "      <th></th>\n",
       "      <th>Pregnancies</th>\n",
       "      <th>Glucose</th>\n",
       "      <th>BloodPressure</th>\n",
       "      <th>SkinThickness</th>\n",
       "      <th>Insulin</th>\n",
       "      <th>BMI</th>\n",
       "      <th>DiabetesPedigreeFunction</th>\n",
       "      <th>Age</th>\n",
       "    </tr>\n",
       "  </thead>\n",
       "  <tbody>\n",
       "    <tr>\n",
       "      <th>count</th>\n",
       "      <td>768.000000</td>\n",
       "      <td>768.000000</td>\n",
       "      <td>768.000000</td>\n",
       "      <td>768.000000</td>\n",
       "      <td>768.000000</td>\n",
       "      <td>768.000000</td>\n",
       "      <td>768.000000</td>\n",
       "      <td>768.000000</td>\n",
       "    </tr>\n",
       "    <tr>\n",
       "      <th>mean</th>\n",
       "      <td>3.845052</td>\n",
       "      <td>120.894531</td>\n",
       "      <td>69.105469</td>\n",
       "      <td>20.536458</td>\n",
       "      <td>79.799479</td>\n",
       "      <td>31.992578</td>\n",
       "      <td>0.471876</td>\n",
       "      <td>33.240885</td>\n",
       "    </tr>\n",
       "    <tr>\n",
       "      <th>std</th>\n",
       "      <td>3.369578</td>\n",
       "      <td>31.972618</td>\n",
       "      <td>19.355807</td>\n",
       "      <td>15.952218</td>\n",
       "      <td>115.244002</td>\n",
       "      <td>7.884160</td>\n",
       "      <td>0.331329</td>\n",
       "      <td>11.760232</td>\n",
       "    </tr>\n",
       "    <tr>\n",
       "      <th>min</th>\n",
       "      <td>0.000000</td>\n",
       "      <td>0.000000</td>\n",
       "      <td>0.000000</td>\n",
       "      <td>0.000000</td>\n",
       "      <td>0.000000</td>\n",
       "      <td>0.000000</td>\n",
       "      <td>0.078000</td>\n",
       "      <td>21.000000</td>\n",
       "    </tr>\n",
       "    <tr>\n",
       "      <th>25%</th>\n",
       "      <td>1.000000</td>\n",
       "      <td>99.000000</td>\n",
       "      <td>62.000000</td>\n",
       "      <td>0.000000</td>\n",
       "      <td>0.000000</td>\n",
       "      <td>27.300000</td>\n",
       "      <td>0.243750</td>\n",
       "      <td>24.000000</td>\n",
       "    </tr>\n",
       "    <tr>\n",
       "      <th>50%</th>\n",
       "      <td>3.000000</td>\n",
       "      <td>117.000000</td>\n",
       "      <td>72.000000</td>\n",
       "      <td>23.000000</td>\n",
       "      <td>30.500000</td>\n",
       "      <td>32.000000</td>\n",
       "      <td>0.372500</td>\n",
       "      <td>29.000000</td>\n",
       "    </tr>\n",
       "    <tr>\n",
       "      <th>75%</th>\n",
       "      <td>6.000000</td>\n",
       "      <td>140.250000</td>\n",
       "      <td>80.000000</td>\n",
       "      <td>32.000000</td>\n",
       "      <td>127.250000</td>\n",
       "      <td>36.600000</td>\n",
       "      <td>0.626250</td>\n",
       "      <td>41.000000</td>\n",
       "    </tr>\n",
       "    <tr>\n",
       "      <th>max</th>\n",
       "      <td>17.000000</td>\n",
       "      <td>199.000000</td>\n",
       "      <td>122.000000</td>\n",
       "      <td>99.000000</td>\n",
       "      <td>846.000000</td>\n",
       "      <td>67.100000</td>\n",
       "      <td>2.420000</td>\n",
       "      <td>81.000000</td>\n",
       "    </tr>\n",
       "  </tbody>\n",
       "</table>\n",
       "</div>"
      ],
      "text/plain": [
       "       Pregnancies     Glucose  BloodPressure  SkinThickness     Insulin  \\\n",
       "count   768.000000  768.000000     768.000000     768.000000  768.000000   \n",
       "mean      3.845052  120.894531      69.105469      20.536458   79.799479   \n",
       "std       3.369578   31.972618      19.355807      15.952218  115.244002   \n",
       "min       0.000000    0.000000       0.000000       0.000000    0.000000   \n",
       "25%       1.000000   99.000000      62.000000       0.000000    0.000000   \n",
       "50%       3.000000  117.000000      72.000000      23.000000   30.500000   \n",
       "75%       6.000000  140.250000      80.000000      32.000000  127.250000   \n",
       "max      17.000000  199.000000     122.000000      99.000000  846.000000   \n",
       "\n",
       "              BMI  DiabetesPedigreeFunction         Age  \n",
       "count  768.000000                768.000000  768.000000  \n",
       "mean    31.992578                  0.471876   33.240885  \n",
       "std      7.884160                  0.331329   11.760232  \n",
       "min      0.000000                  0.078000   21.000000  \n",
       "25%     27.300000                  0.243750   24.000000  \n",
       "50%     32.000000                  0.372500   29.000000  \n",
       "75%     36.600000                  0.626250   41.000000  \n",
       "max     67.100000                  2.420000   81.000000  "
      ]
     },
     "execution_count": 5,
     "metadata": {},
     "output_type": "execute_result"
    }
   ],
   "source": [
    "diabetes.describe()"
   ]
  },
  {
   "cell_type": "markdown",
   "id": "d3bf0400",
   "metadata": {
    "papermill": {
     "duration": 0.025152,
     "end_time": "2022-03-23T01:49:53.279410",
     "exception": false,
     "start_time": "2022-03-23T01:49:53.254258",
     "status": "completed"
    },
    "tags": []
   },
   "source": [
    "We have eight variables and 768 women, the descriptive analysis show some wear values, the minimum value of Blood preasure, BMI, Skin, Glucose and Insulin is 0 and that does not make sense, so we drop those observations."
   ]
  },
  {
   "cell_type": "code",
   "execution_count": 6,
   "id": "b1ab068f",
   "metadata": {
    "execution": {
     "iopub.execute_input": "2022-03-23T01:49:53.333063Z",
     "iopub.status.busy": "2022-03-23T01:49:53.331791Z",
     "iopub.status.idle": "2022-03-23T01:49:53.337766Z",
     "shell.execute_reply": "2022-03-23T01:49:53.338405Z",
     "shell.execute_reply.started": "2022-03-23T01:48:14.693847Z"
    },
    "papermill": {
     "duration": 0.035797,
     "end_time": "2022-03-23T01:49:53.338582",
     "exception": false,
     "start_time": "2022-03-23T01:49:53.302785",
     "status": "completed"
    },
    "tags": []
   },
   "outputs": [],
   "source": [
    "diabetes2=diabetes[(diabetes.Glucose!=0)&(diabetes.BloodPressure!=0)&(diabetes.SkinThickness!=0)&(diabetes.Insulin!=0)&(diabetes.BMI!=0)]"
   ]
  },
  {
   "cell_type": "code",
   "execution_count": 7,
   "id": "a95bdb1c",
   "metadata": {
    "execution": {
     "iopub.execute_input": "2022-03-23T01:49:53.390132Z",
     "iopub.status.busy": "2022-03-23T01:49:53.389194Z",
     "iopub.status.idle": "2022-03-23T01:49:53.418213Z",
     "shell.execute_reply": "2022-03-23T01:49:53.417515Z",
     "shell.execute_reply.started": "2022-03-23T01:48:14.704778Z"
    },
    "papermill": {
     "duration": 0.0566,
     "end_time": "2022-03-23T01:49:53.418363",
     "exception": false,
     "start_time": "2022-03-23T01:49:53.361763",
     "status": "completed"
    },
    "tags": []
   },
   "outputs": [
    {
     "data": {
      "text/html": [
       "<div>\n",
       "<style scoped>\n",
       "    .dataframe tbody tr th:only-of-type {\n",
       "        vertical-align: middle;\n",
       "    }\n",
       "\n",
       "    .dataframe tbody tr th {\n",
       "        vertical-align: top;\n",
       "    }\n",
       "\n",
       "    .dataframe thead th {\n",
       "        text-align: right;\n",
       "    }\n",
       "</style>\n",
       "<table border=\"1\" class=\"dataframe\">\n",
       "  <thead>\n",
       "    <tr style=\"text-align: right;\">\n",
       "      <th></th>\n",
       "      <th>Pregnancies</th>\n",
       "      <th>Glucose</th>\n",
       "      <th>BloodPressure</th>\n",
       "      <th>SkinThickness</th>\n",
       "      <th>Insulin</th>\n",
       "      <th>BMI</th>\n",
       "      <th>DiabetesPedigreeFunction</th>\n",
       "      <th>Age</th>\n",
       "    </tr>\n",
       "  </thead>\n",
       "  <tbody>\n",
       "    <tr>\n",
       "      <th>count</th>\n",
       "      <td>392.000000</td>\n",
       "      <td>392.000000</td>\n",
       "      <td>392.000000</td>\n",
       "      <td>392.000000</td>\n",
       "      <td>392.000000</td>\n",
       "      <td>392.000000</td>\n",
       "      <td>392.000000</td>\n",
       "      <td>392.000000</td>\n",
       "    </tr>\n",
       "    <tr>\n",
       "      <th>mean</th>\n",
       "      <td>3.301020</td>\n",
       "      <td>122.627551</td>\n",
       "      <td>70.663265</td>\n",
       "      <td>29.145408</td>\n",
       "      <td>156.056122</td>\n",
       "      <td>33.086224</td>\n",
       "      <td>0.523046</td>\n",
       "      <td>30.864796</td>\n",
       "    </tr>\n",
       "    <tr>\n",
       "      <th>std</th>\n",
       "      <td>3.211424</td>\n",
       "      <td>30.860781</td>\n",
       "      <td>12.496092</td>\n",
       "      <td>10.516424</td>\n",
       "      <td>118.841690</td>\n",
       "      <td>7.027659</td>\n",
       "      <td>0.345488</td>\n",
       "      <td>10.200777</td>\n",
       "    </tr>\n",
       "    <tr>\n",
       "      <th>min</th>\n",
       "      <td>0.000000</td>\n",
       "      <td>56.000000</td>\n",
       "      <td>24.000000</td>\n",
       "      <td>7.000000</td>\n",
       "      <td>14.000000</td>\n",
       "      <td>18.200000</td>\n",
       "      <td>0.085000</td>\n",
       "      <td>21.000000</td>\n",
       "    </tr>\n",
       "    <tr>\n",
       "      <th>25%</th>\n",
       "      <td>1.000000</td>\n",
       "      <td>99.000000</td>\n",
       "      <td>62.000000</td>\n",
       "      <td>21.000000</td>\n",
       "      <td>76.750000</td>\n",
       "      <td>28.400000</td>\n",
       "      <td>0.269750</td>\n",
       "      <td>23.000000</td>\n",
       "    </tr>\n",
       "    <tr>\n",
       "      <th>50%</th>\n",
       "      <td>2.000000</td>\n",
       "      <td>119.000000</td>\n",
       "      <td>70.000000</td>\n",
       "      <td>29.000000</td>\n",
       "      <td>125.500000</td>\n",
       "      <td>33.200000</td>\n",
       "      <td>0.449500</td>\n",
       "      <td>27.000000</td>\n",
       "    </tr>\n",
       "    <tr>\n",
       "      <th>75%</th>\n",
       "      <td>5.000000</td>\n",
       "      <td>143.000000</td>\n",
       "      <td>78.000000</td>\n",
       "      <td>37.000000</td>\n",
       "      <td>190.000000</td>\n",
       "      <td>37.100000</td>\n",
       "      <td>0.687000</td>\n",
       "      <td>36.000000</td>\n",
       "    </tr>\n",
       "    <tr>\n",
       "      <th>max</th>\n",
       "      <td>17.000000</td>\n",
       "      <td>198.000000</td>\n",
       "      <td>110.000000</td>\n",
       "      <td>63.000000</td>\n",
       "      <td>846.000000</td>\n",
       "      <td>67.100000</td>\n",
       "      <td>2.420000</td>\n",
       "      <td>81.000000</td>\n",
       "    </tr>\n",
       "  </tbody>\n",
       "</table>\n",
       "</div>"
      ],
      "text/plain": [
       "       Pregnancies     Glucose  BloodPressure  SkinThickness     Insulin  \\\n",
       "count   392.000000  392.000000     392.000000     392.000000  392.000000   \n",
       "mean      3.301020  122.627551      70.663265      29.145408  156.056122   \n",
       "std       3.211424   30.860781      12.496092      10.516424  118.841690   \n",
       "min       0.000000   56.000000      24.000000       7.000000   14.000000   \n",
       "25%       1.000000   99.000000      62.000000      21.000000   76.750000   \n",
       "50%       2.000000  119.000000      70.000000      29.000000  125.500000   \n",
       "75%       5.000000  143.000000      78.000000      37.000000  190.000000   \n",
       "max      17.000000  198.000000     110.000000      63.000000  846.000000   \n",
       "\n",
       "              BMI  DiabetesPedigreeFunction         Age  \n",
       "count  392.000000                392.000000  392.000000  \n",
       "mean    33.086224                  0.523046   30.864796  \n",
       "std      7.027659                  0.345488   10.200777  \n",
       "min     18.200000                  0.085000   21.000000  \n",
       "25%     28.400000                  0.269750   23.000000  \n",
       "50%     33.200000                  0.449500   27.000000  \n",
       "75%     37.100000                  0.687000   36.000000  \n",
       "max     67.100000                  2.420000   81.000000  "
      ]
     },
     "execution_count": 7,
     "metadata": {},
     "output_type": "execute_result"
    }
   ],
   "source": [
    "diabetes2.describe()"
   ]
  },
  {
   "cell_type": "markdown",
   "id": "3eea20e0",
   "metadata": {
    "papermill": {
     "duration": 0.024224,
     "end_time": "2022-03-23T01:49:53.466366",
     "exception": false,
     "start_time": "2022-03-23T01:49:53.442142",
     "status": "completed"
    },
    "tags": []
   },
   "source": [
    "The descriptive analysis of the new dataset has sense, using this new data set, the models are estimated and tested."
   ]
  },
  {
   "cell_type": "code",
   "execution_count": 8,
   "id": "15957ece",
   "metadata": {
    "execution": {
     "iopub.execute_input": "2022-03-23T01:49:53.521635Z",
     "iopub.status.busy": "2022-03-23T01:49:53.520941Z",
     "iopub.status.idle": "2022-03-23T01:49:53.990689Z",
     "shell.execute_reply": "2022-03-23T01:49:53.990129Z",
     "shell.execute_reply.started": "2022-03-23T01:48:14.741319Z"
    },
    "papermill": {
     "duration": 0.500529,
     "end_time": "2022-03-23T01:49:53.990824",
     "exception": false,
     "start_time": "2022-03-23T01:49:53.490295",
     "status": "completed"
    },
    "tags": []
   },
   "outputs": [
    {
     "data": {
      "image/png": "[encoded data removed]",
      "text/plain": [
       "<Figure size 600x480 with 2 Axes>"
      ]
     },
     "metadata": {
      "needs_background": "light"
     },
     "output_type": "display_data"
    }
   ],
   "source": [
    "plt.figure(dpi = 120,figsize= (5,4))\n",
    "mask = np.triu(np.ones_like(diabetes2.corr(),dtype = bool))\n",
    "sns.heatmap(diabetes2.corr(),mask = mask, fmt = \".2f\",annot=True,lw=1,cmap = 'plasma')\n",
    "plt.yticks(rotation = 0)\n",
    "plt.xticks(rotation = 90)\n",
    "plt.title('Correlation Heatmap')\n",
    "plt.show()"
   ]
  },
  {
   "cell_type": "markdown",
   "id": "61c1c3ee",
   "metadata": {
    "papermill": {
     "duration": 0.027792,
     "end_time": "2022-03-23T01:49:54.045374",
     "exception": false,
     "start_time": "2022-03-23T01:49:54.017582",
     "status": "completed"
    },
    "tags": []
   },
   "source": [
    "There exist a highe correlation between age and pregnancies, skin thickness and BMI, Glucose and Insulin, those correlations were expected."
   ]
  },
  {
   "cell_type": "code",
   "execution_count": 9,
   "id": "bfb77afe",
   "metadata": {
    "execution": {
     "iopub.execute_input": "2022-03-23T01:49:54.112224Z",
     "iopub.status.busy": "2022-03-23T01:49:54.107400Z",
     "iopub.status.idle": "2022-03-23T01:49:54.116703Z",
     "shell.execute_reply": "2022-03-23T01:49:54.116149Z",
     "shell.execute_reply.started": "2022-03-23T01:48:15.158722Z"
    },
    "papermill": {
     "duration": 0.043103,
     "end_time": "2022-03-23T01:49:54.116875",
     "exception": false,
     "start_time": "2022-03-23T01:49:54.073772",
     "status": "completed"
    },
    "tags": []
   },
   "outputs": [],
   "source": [
    "X=diabetes[['Pregnancies', 'Glucose', 'BloodPressure', 'SkinThickness', 'Insulin','BMI', 'Age']]\n",
    "y=diabetes[[\"Outcome\"]]"
   ]
  },
  {
   "cell_type": "code",
   "execution_count": 10,
   "id": "423b6a77",
   "metadata": {
    "execution": {
     "iopub.execute_input": "2022-03-23T01:49:54.177421Z",
     "iopub.status.busy": "2022-03-23T01:49:54.176770Z",
     "iopub.status.idle": "2022-03-23T01:49:54.184929Z",
     "shell.execute_reply": "2022-03-23T01:49:54.185548Z",
     "shell.execute_reply.started": "2022-03-23T01:48:15.168772Z"
    },
    "papermill": {
     "duration": 0.040377,
     "end_time": "2022-03-23T01:49:54.185776",
     "exception": false,
     "start_time": "2022-03-23T01:49:54.145399",
     "status": "completed"
    },
    "tags": []
   },
   "outputs": [],
   "source": [
    "X_norm=StandardScaler().fit_transform(X)"
   ]
  },
  {
   "cell_type": "code",
   "execution_count": 11,
   "id": "ea061729",
   "metadata": {
    "execution": {
     "iopub.execute_input": "2022-03-23T01:49:54.249103Z",
     "iopub.status.busy": "2022-03-23T01:49:54.248324Z",
     "iopub.status.idle": "2022-03-23T01:49:54.288879Z",
     "shell.execute_reply": "2022-03-23T01:49:54.290026Z",
     "shell.execute_reply.started": "2022-03-23T01:48:15.185581Z"
    },
    "papermill": {
     "duration": 0.076479,
     "end_time": "2022-03-23T01:49:54.290319",
     "exception": false,
     "start_time": "2022-03-23T01:49:54.213840",
     "status": "completed"
    },
    "tags": []
   },
   "outputs": [
    {
     "data": {
      "text/plain": [
       "PCA(n_components=2)"
      ]
     },
     "execution_count": 11,
     "metadata": {},
     "output_type": "execute_result"
    }
   ],
   "source": [
    "pca = PCA(n_components=2)\n",
    "pca.fit(X_norm)"
   ]
  },
  {
   "cell_type": "code",
   "execution_count": 12,
   "id": "ca2b1aa0",
   "metadata": {
    "execution": {
     "iopub.execute_input": "2022-03-23T01:49:54.398540Z",
     "iopub.status.busy": "2022-03-23T01:49:54.397774Z",
     "iopub.status.idle": "2022-03-23T01:49:54.750742Z",
     "shell.execute_reply": "2022-03-23T01:49:54.750088Z",
     "shell.execute_reply.started": "2022-03-23T01:48:15.214357Z"
    },
    "papermill": {
     "duration": 0.402426,
     "end_time": "2022-03-23T01:49:54.750909",
     "exception": false,
     "start_time": "2022-03-23T01:49:54.348483",
     "status": "completed"
    },
    "tags": []
   },
   "outputs": [
    {
     "name": "stderr",
     "output_type": "stream",
     "text": [
      "/opt/conda/lib/python3.7/site-packages/sklearn/base.py:439: UserWarning: X has feature names, but PCA was fitted without feature names\n",
      "  f\"X has feature names, but {self.__class__.__name__} was fitted without\"\n"
     ]
    },
    {
     "data": {
      "text/plain": [
       "<AxesSubplot:xlabel='PCA1', ylabel='PCA2'>"
      ]
     },
     "execution_count": 12,
     "metadata": {},
     "output_type": "execute_result"
    },
    {
     "data": {
      "image/png": "[encoded data removed]",
      "text/plain": [
       "<Figure size 432x288 with 1 Axes>"
      ]
     },
     "metadata": {
      "needs_background": "light"
     },
     "output_type": "display_data"
    }
   ],
   "source": [
    "components=pca.transform(X)\n",
    "df_Components = pd.DataFrame(data = components, \n",
    "                     columns = [\"PCA1\",\"PCA2\"])\n",
    "df_Components[\"Outcome\"]=diabetes[\"Outcome\"]\n",
    "sns.scatterplot(x=\"PCA1\",y=\"PCA2\",hue=\"Outcome\",data=df_Components)"
   ]
  },
  {
   "cell_type": "markdown",
   "id": "345d88f8",
   "metadata": {
    "papermill": {
     "duration": 0.031765,
     "end_time": "2022-03-23T01:49:54.817016",
     "exception": false,
     "start_time": "2022-03-23T01:49:54.785251",
     "status": "completed"
    },
    "tags": []
   },
   "source": [
    "Using 2 components of PCA to see how can be separeted in non diabetic and diabetic, it seems like a line con make a good division, we are going to corroborate this with a kernel cross validation."
   ]
  },
  {
   "cell_type": "code",
   "execution_count": 13,
   "id": "37bffacc",
   "metadata": {
    "execution": {
     "iopub.execute_input": "2022-03-23T01:49:54.886199Z",
     "iopub.status.busy": "2022-03-23T01:49:54.885537Z",
     "iopub.status.idle": "2022-03-23T01:49:54.890800Z",
     "shell.execute_reply": "2022-03-23T01:49:54.891313Z",
     "shell.execute_reply.started": "2022-03-23T01:48:15.560381Z"
    },
    "papermill": {
     "duration": 0.042583,
     "end_time": "2022-03-23T01:49:54.891641",
     "exception": false,
     "start_time": "2022-03-23T01:49:54.849058",
     "status": "completed"
    },
    "tags": []
   },
   "outputs": [],
   "source": [
    "y=pd.get_dummies(diabetes.Outcome)\n",
    "y=y.Diab"
   ]
  },
  {
   "cell_type": "code",
   "execution_count": 14,
   "id": "6661ca57",
   "metadata": {
    "execution": {
     "iopub.execute_input": "2022-03-23T01:49:54.960019Z",
     "iopub.status.busy": "2022-03-23T01:49:54.957908Z",
     "iopub.status.idle": "2022-03-23T01:49:54.963668Z",
     "shell.execute_reply": "2022-03-23T01:49:54.964451Z",
     "shell.execute_reply.started": "2022-03-23T01:48:15.569224Z"
    },
    "papermill": {
     "duration": 0.040189,
     "end_time": "2022-03-23T01:49:54.964644",
     "exception": false,
     "start_time": "2022-03-23T01:49:54.924455",
     "status": "completed"
    },
    "tags": []
   },
   "outputs": [],
   "source": [
    "X_train, X_test, y_train, y_test = train_test_split(X_norm,y)"
   ]
  },
  {
   "cell_type": "code",
   "execution_count": 15,
   "id": "61b28192",
   "metadata": {
    "execution": {
     "iopub.execute_input": "2022-03-23T01:49:55.034477Z",
     "iopub.status.busy": "2022-03-23T01:49:55.033529Z",
     "iopub.status.idle": "2022-03-23T01:50:33.654707Z",
     "shell.execute_reply": "2022-03-23T01:50:33.655192Z",
     "shell.execute_reply.started": "2022-03-23T01:48:15.582096Z"
    },
    "papermill": {
     "duration": 38.657798,
     "end_time": "2022-03-23T01:50:33.655376",
     "exception": false,
     "start_time": "2022-03-23T01:49:54.997578",
     "status": "completed"
    },
    "tags": []
   },
   "outputs": [
    {
     "data": {
      "text/plain": [
       "GridSearchCV(estimator=SVC(probability=True),\n",
       "             param_grid={'C': [1, 10, 100, 1000],\n",
       "                         'kernel': ('linear', 'rbf', 'sigmoid')})"
      ]
     },
     "execution_count": 15,
     "metadata": {},
     "output_type": "execute_result"
    }
   ],
   "source": [
    "parameters = {'kernel':('linear', 'rbf','sigmoid'), 'C':[1, 10,100,1000]}\n",
    "svc=SVC()\n",
    "clf = GridSearchCV(SVC(probability=True), parameters,refit=True)\n",
    "clf.fit(X_train,y_train)"
   ]
  },
  {
   "cell_type": "markdown",
   "id": "1b5c4210",
   "metadata": {
    "papermill": {
     "duration": 0.028571,
     "end_time": "2022-03-23T01:50:33.712881",
     "exception": false,
     "start_time": "2022-03-23T01:50:33.684310",
     "status": "completed"
    },
    "tags": []
   },
   "source": [
    "The best kernel is the Radial basis function kernel with a C parameter 10"
   ]
  },
  {
   "cell_type": "code",
   "execution_count": 16,
   "id": "247196a8",
   "metadata": {
    "execution": {
     "iopub.execute_input": "2022-03-23T01:50:33.775437Z",
     "iopub.status.busy": "2022-03-23T01:50:33.774696Z",
     "iopub.status.idle": "2022-03-23T01:50:33.780164Z",
     "shell.execute_reply": "2022-03-23T01:50:33.780623Z",
     "shell.execute_reply.started": "2022-03-23T01:49:17.510723Z"
    },
    "papermill": {
     "duration": 0.038783,
     "end_time": "2022-03-23T01:50:33.780799",
     "exception": false,
     "start_time": "2022-03-23T01:50:33.742016",
     "status": "completed"
    },
    "tags": []
   },
   "outputs": [],
   "source": [
    "svc_predict=clf.predict(X_test)"
   ]
  },
  {
   "cell_type": "code",
   "execution_count": 17,
   "id": "1ac6dd7c",
   "metadata": {
    "execution": {
     "iopub.execute_input": "2022-03-23T01:50:33.844057Z",
     "iopub.status.busy": "2022-03-23T01:50:33.843265Z",
     "iopub.status.idle": "2022-03-23T01:50:33.848392Z",
     "shell.execute_reply": "2022-03-23T01:50:33.848810Z",
     "shell.execute_reply.started": "2022-03-23T01:49:17.522037Z"
    },
    "papermill": {
     "duration": 0.039399,
     "end_time": "2022-03-23T01:50:33.849020",
     "exception": false,
     "start_time": "2022-03-23T01:50:33.809621",
     "status": "completed"
    },
    "tags": []
   },
   "outputs": [],
   "source": [
    "output=pd.concat([pd.DataFrame(svc_predict),pd.DataFrame(y_test.values)],axis=1,ignore_index=False)\n",
    "output.columns=[\"Predict value\",\"Real value\"]"
   ]
  },
  {
   "cell_type": "code",
   "execution_count": 18,
   "id": "92a26e05",
   "metadata": {
    "execution": {
     "iopub.execute_input": "2022-03-23T01:50:33.911448Z",
     "iopub.status.busy": "2022-03-23T01:50:33.910276Z",
     "iopub.status.idle": "2022-03-23T01:50:33.916112Z",
     "shell.execute_reply": "2022-03-23T01:50:33.916559Z",
     "shell.execute_reply.started": "2022-03-23T01:49:17.532708Z"
    },
    "papermill": {
     "duration": 0.038923,
     "end_time": "2022-03-23T01:50:33.916739",
     "exception": false,
     "start_time": "2022-03-23T01:50:33.877816",
     "status": "completed"
    },
    "tags": []
   },
   "outputs": [],
   "source": [
    "nlscores=clf.predict_proba(X_test)"
   ]
  },
  {
   "cell_type": "code",
   "execution_count": 19,
   "id": "0d4a41a3",
   "metadata": {
    "execution": {
     "iopub.execute_input": "2022-03-23T01:50:33.980379Z",
     "iopub.status.busy": "2022-03-23T01:50:33.979689Z",
     "iopub.status.idle": "2022-03-23T01:50:33.985004Z",
     "shell.execute_reply": "2022-03-23T01:50:33.984498Z",
     "shell.execute_reply.started": "2022-03-23T01:49:17.555470Z"
    },
    "papermill": {
     "duration": 0.038941,
     "end_time": "2022-03-23T01:50:33.985151",
     "exception": false,
     "start_time": "2022-03-23T01:50:33.946210",
     "status": "completed"
    },
    "tags": []
   },
   "outputs": [],
   "source": [
    "fpr, tpr, thresholds =roc_curve(y_test,nlscores[:,1])"
   ]
  },
  {
   "cell_type": "code",
   "execution_count": 20,
   "id": "9a95c80e",
   "metadata": {
    "execution": {
     "iopub.execute_input": "2022-03-23T01:50:34.049506Z",
     "iopub.status.busy": "2022-03-23T01:50:34.048825Z",
     "iopub.status.idle": "2022-03-23T01:50:34.152710Z",
     "shell.execute_reply": "2022-03-23T01:50:34.153229Z",
     "shell.execute_reply.started": "2022-03-23T01:49:17.565245Z"
    },
    "papermill": {
     "duration": 0.139472,
     "end_time": "2022-03-23T01:50:34.153398",
     "exception": false,
     "start_time": "2022-03-23T01:50:34.013926",
     "status": "completed"
    },
    "tags": []
   },
   "outputs": [
    {
     "data": {
      "text/plain": [
       "GridSearchCV(estimator=LogisticRegression(),\n",
       "             param_grid={'C': [1, 10, 100, 1000]})"
      ]
     },
     "execution_count": 20,
     "metadata": {},
     "output_type": "execute_result"
    }
   ],
   "source": [
    "parameters = {'C':[1, 10,100,1000]}\n",
    "lr = GridSearchCV(LogisticRegression(), parameters,refit=True)\n",
    "lr.fit(X_train,y_train)"
   ]
  },
  {
   "cell_type": "code",
   "execution_count": 21,
   "id": "78507efd",
   "metadata": {
    "execution": {
     "iopub.execute_input": "2022-03-23T01:50:34.217595Z",
     "iopub.status.busy": "2022-03-23T01:50:34.216973Z",
     "iopub.status.idle": "2022-03-23T01:50:34.218753Z",
     "shell.execute_reply": "2022-03-23T01:50:34.219249Z",
     "shell.execute_reply.started": "2022-03-23T01:49:17.692519Z"
    },
    "papermill": {
     "duration": 0.036975,
     "end_time": "2022-03-23T01:50:34.219425",
     "exception": false,
     "start_time": "2022-03-23T01:50:34.182450",
     "status": "completed"
    },
    "tags": []
   },
   "outputs": [],
   "source": [
    "lr_pred=lr.predict(X_test)\n",
    "lr_prob=lr.predict_proba(X_test)"
   ]
  },
  {
   "cell_type": "code",
   "execution_count": 22,
   "id": "0c26198d",
   "metadata": {
    "execution": {
     "iopub.execute_input": "2022-03-23T01:50:34.281453Z",
     "iopub.status.busy": "2022-03-23T01:50:34.280829Z",
     "iopub.status.idle": "2022-03-23T01:50:34.286340Z",
     "shell.execute_reply": "2022-03-23T01:50:34.285736Z",
     "shell.execute_reply.started": "2022-03-23T01:49:17.700381Z"
    },
    "papermill": {
     "duration": 0.038048,
     "end_time": "2022-03-23T01:50:34.286500",
     "exception": false,
     "start_time": "2022-03-23T01:50:34.248452",
     "status": "completed"
    },
    "tags": []
   },
   "outputs": [],
   "source": [
    "fpr_lr, tpr_lr, thresholds_lr =roc_curve(y_test,lr_prob[:,1])"
   ]
  },
  {
   "cell_type": "markdown",
   "id": "6c93b136",
   "metadata": {
    "papermill": {
     "duration": 0.032016,
     "end_time": "2022-03-23T01:50:34.349180",
     "exception": false,
     "start_time": "2022-03-23T01:50:34.317164",
     "status": "completed"
    },
    "tags": []
   },
   "source": [
    "With the ROC curve the models can be compared, the logistic regression has a better performance that Support Vector Clasifier with a rbf kernel"
   ]
  },
  {
   "cell_type": "code",
   "execution_count": 23,
   "id": "664031c2",
   "metadata": {
    "execution": {
     "iopub.execute_input": "2022-03-23T01:50:34.418488Z",
     "iopub.status.busy": "2022-03-23T01:50:34.416269Z",
     "iopub.status.idle": "2022-03-23T01:50:34.627619Z",
     "shell.execute_reply": "2022-03-23T01:50:34.627010Z",
     "shell.execute_reply.started": "2022-03-23T01:49:17.715788Z"
    },
    "papermill": {
     "duration": 0.248125,
     "end_time": "2022-03-23T01:50:34.627756",
     "exception": false,
     "start_time": "2022-03-23T01:50:34.379631",
     "status": "completed"
    },
    "tags": []
   },
   "outputs": [
    {
     "data": {
      "image/png": "[encoded data removed]",
      "text/plain": [
       "<Figure size 432x288 with 1 Axes>"
      ]
     },
     "metadata": {
      "needs_background": "light"
     },
     "output_type": "display_data"
    }
   ],
   "source": [
    "plt.plot([0, 1], [0, 1], 'k--')\n",
    "plt.plot(fpr, tpr,label=\"SVC\")\n",
    "plt.plot(fpr_lr, tpr_lr,label=\"Logistic regression\")\n",
    "plt.xlabel('False Positive Rate')\n",
    "plt.ylabel('True Positive Rate')\n",
    "plt.title('ROC Curve')\n",
    "plt.legend()\n",
    "plt.show()"
   ]
  },
  {
   "cell_type": "code",
   "execution_count": 24,
   "id": "4f888bec",
   "metadata": {
    "execution": {
     "iopub.execute_input": "2022-03-23T01:50:34.696069Z",
     "iopub.status.busy": "2022-03-23T01:50:34.693691Z",
     "iopub.status.idle": "2022-03-23T01:50:34.699783Z",
     "shell.execute_reply": "2022-03-23T01:50:34.700251Z",
     "shell.execute_reply.started": "2022-03-23T01:49:17.904536Z"
    },
    "papermill": {
     "duration": 0.04068,
     "end_time": "2022-03-23T01:50:34.700422",
     "exception": false,
     "start_time": "2022-03-23T01:50:34.659742",
     "status": "completed"
    },
    "tags": []
   },
   "outputs": [
    {
     "data": {
      "text/plain": [
       "0.7239583333333334"
      ]
     },
     "execution_count": 24,
     "metadata": {},
     "output_type": "execute_result"
    }
   ],
   "source": [
    "lr.score(X_test,y_test)"
   ]
  },
  {
   "cell_type": "code",
   "execution_count": 25,
   "id": "ad56b1e7",
   "metadata": {
    "execution": {
     "iopub.execute_input": "2022-03-23T01:50:34.765670Z",
     "iopub.status.busy": "2022-03-23T01:50:34.764720Z",
     "iopub.status.idle": "2022-03-23T01:50:34.773746Z",
     "shell.execute_reply": "2022-03-23T01:50:34.774712Z",
     "shell.execute_reply.started": "2022-03-23T01:49:17.914533Z"
    },
    "papermill": {
     "duration": 0.044333,
     "end_time": "2022-03-23T01:50:34.774981",
     "exception": false,
     "start_time": "2022-03-23T01:50:34.730648",
     "status": "completed"
    },
    "tags": []
   },
   "outputs": [
    {
     "name": "stdout",
     "output_type": "stream",
     "text": [
      "0.71875\n"
     ]
    }
   ],
   "source": [
    "print(clf.score(X_test,y_test))"
   ]
  },
  {
   "cell_type": "markdown",
   "id": "93f139da",
   "metadata": {
    "execution": {
     "iopub.execute_input": "2022-03-11T21:29:25.991591Z",
     "iopub.status.busy": "2022-03-11T21:29:25.991033Z",
     "iopub.status.idle": "2022-03-11T21:29:26.011894Z",
     "shell.execute_reply": "2022-03-11T21:29:26.010945Z",
     "shell.execute_reply.started": "2022-03-11T21:29:25.991548Z"
    },
    "papermill": {
     "duration": 0.032047,
     "end_time": "2022-03-23T01:50:34.838257",
     "exception": false,
     "start_time": "2022-03-23T01:50:34.806210",
     "status": "completed"
    },
    "tags": []
   },
   "source": [
    "Using the seven variables a better algorithm to identify the diabetes in a woman is a logistic regression, showing an accuracy of 73\\%, being glucose, insulin and BMI the most important variables."
   ]
  }
 ],
 "metadata": {
  "kernelspec": {
   "display_name": "Python 3",
   "language": "python",
   "name": "python3"
  },
  "language_info": {
   "codemirror_mode": {
    "name": "ipython",
    "version": 3
   },
   "file_extension": ".py",
   "mimetype": "text/x-python",
   "name": "python",
   "nbconvert_exporter": "python",
   "pygments_lexer": "ipython3",
   "version": "3.7.12"
  },
  "papermill": {
   "default_parameters": {},
   "duration": 53.176958,
   "end_time": "2022-03-23T01:50:35.578930",
   "environment_variables": {},
   "exception": null,
   "input_path": "__notebook__.ipynb",
   "output_path": "__notebook__.ipynb",
   "parameters": {},
   "start_time": "2022-03-23T01:49:42.401972",
   "version": "2.3.3"
  }
 },
 "nbformat": 4,
 "nbformat_minor": 5
}
